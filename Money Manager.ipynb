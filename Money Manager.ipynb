{
 "cells": [
  {
   "cell_type": "code",
   "execution_count": 1,
   "metadata": {},
   "outputs": [],
   "source": [
    "nlu_md = \"\"\"\n",
    "\n",
    "## intent:greet\n",
    "- hey\n",
    "- hello\n",
    "- hi\n",
    "- good morning\n",
    "- good evening\n",
    "- hey there\n",
    "\n",
    "\n",
    "## intent:Bank_account_statement\n",
    "- Get me my e-statement for [last month](time_period)\n",
    "- show me the bank statements from [2018.2.9](time_period) to [2018.7.5](time_period)\n",
    "- I need my statements for last [2 months](time_period)\n",
    "- show me my statements for [June](month)\n",
    "\n",
    "\n",
    "\n",
    "## intent:Bank_Balance\n",
    "- Show me my current account balance\n",
    "- How much money is left in my account at end of [each month](time_period)\n",
    "- I wish to know my balance\n",
    "- what is my cuurent balance\n",
    "- How much money is on my account?\n",
    "- What's left on that account?\n",
    "- How much do I have on that account?\n",
    "- What's the balance on that account?\n",
    "- How much money is left on that account?\n",
    "- what's my account balance?\n",
    "\n",
    "\n",
    "\n",
    "## intent:Tack expenditures by  categories\n",
    "- How much did i spend on [UBER](merchant_name) [last month](time_period)\n",
    "- How much did I pay [ravi](merchant_name) in [last 2 months](time_period)\n",
    "- Show my spend analysis of [Friday](day)\n",
    "- How much money do i normally spend on [Sunday](day)\n",
    "- How much did I spent on [OLA](merchant_name) in last [20 days](time_period)\n",
    "- I want to know the [total amount](Amount) [shalini](merchant_name) has given me till date\n",
    "- For how much amount of money did i buy [essential goods](category) [today](day)\n",
    "- Can you tell me how much did my [Netflix] subscription cost me [each month](time_period)\n",
    "- Tell me how much trasaction I did [Yesterday](time_period)\n",
    "- show me the highest transction that I did [last month](time_period) and to (whom)(merchant_name)\n",
    "- Can you show me the amount that [raj](merchant_name) gave me \n",
    "- can you tell me how much worth of [groceries](category) do i buy each [week](time_period)\n",
    "- How much did I spend on [car repair](category) serivce for past 6 months\n",
    "- Show me my last [3](time_period) [IGL](merchant_name) bills\n",
    "- Tell me for how much money did i brought [clothes](category) [last month](time_period)\n",
    "- how much did i spend on [electronics](category) [last 4 month](time_period)\n",
    "- how much have i invested in [Mutual Funds](investment_type)\n",
    "- How many installments have I paid [till date](time_period) for MY [Axis Bank](merchant_name) [credit card](category)\n",
    "- How much money went into my account [last month](time_period)?\n",
    "- How much money did I make [last year](time_period)?\n",
    "- What did I earn [last month](time_period)?\n",
    "- How much money did I make [last week](time_period)?\n",
    "- how much was deposited in my account [last month](time_period)?\n",
    "- how much was deposited in my account in the [last two weeks](time_period)?\n",
    "- check deposits for [last week](time_period)\n",
    "- total deposits over [last year](time_period)\n",
    "- how much was deposited in [January](month)\n",
    "- how much money have I earned?\n",
    "- how much did I spend at [Target](merchant_name) [this week](time_period)?\n",
    "- what is my typical spending at [Amazon](merchant_name)?\n",
    "- I want to check my spending history\n",
    "- how much did I spend at [Starbucks](merchant_name) [last week](time_period)?\n",
    "- I need to check my spending history\n",
    "- I want to check my spending history at [Starbucks](merchant_name)\n",
    "- I want to check my spending\n",
    "- i want to see my transaction history\n",
    "- I want to search my past transactions\n",
    "- I want to search my transactions with [Amazon](merchant_name)\n",
    "- can i seem my transactions with [target](merchant_name)\n",
    "- how much did i spend on [Flight tickets](category)\n",
    "\n",
    "\n",
    "\n",
    "\n",
    "## intent:Saving Money & Wealth Manager\n",
    "- How much should I cut my [swiggy](merchant_name) bill [per month](time_period)\n",
    "- On what all [things](category) I am overspending my money [each month](time_period)\n",
    "- by how much should i start reducing my expenditure on [Amazon](merchant_name)\n",
    "\n",
    "\n",
    "## intent:Outstanding Bills\n",
    "- How much [cable bill](category)  do I have to pay this month\n",
    "- Get me my pending  [mobile bill](category) \n",
    "- How much emi do I have to pay for my [home loan](category) [each month](time_period)\n",
    "- Had I paid the [house rent](category) [last week](time_period)\n",
    "- How much is  [this month](time_period) [Elictricity](category) bill\n",
    "- Tell the [gas bill](category)  I have to pay \n",
    "- How much is my [credit card](category) bill pending\n",
    "- How much money do I owe on my [credit card](category)\n",
    "\n",
    "\n",
    "\n",
    "## intent:Budget Reminders\n",
    "- I dont want to spend more than [200](Amount) on [zomato](merchant_name) [this week](time_period)\n",
    "- Dont let me make a trasaction of more than [90000](Amount) on any given [day](day)\n",
    "- I dont want to buy [clothes](category) that are more than [5000](Amount)\n",
    "- Make sure i do not spend more than [2000](Amount) [per week](time_period) on [drinks](category)\n",
    "- Please make sure I dont spend more than [2000](Amount) on [drinks](category)\n",
    "\n",
    "## intent:Increase my Wealth\n",
    "- I want to start investing in [Mutual Funds](investment_type)\n",
    "- Show me [today](time_period) [Gold price](investment_type)\n",
    "- I am looking for some [nice investments](investment_type)\n",
    "- how do I make my wealth 10x\n",
    "- i want to earn maximum interest on my money\n",
    "- get me best [investments deals](investment_type)\n",
    "- fetch me some [nice investments](investment_type)\n",
    "- i need [Gold price](investment_type)\n",
    "\n",
    "## intent: thanks\n",
    "- Awesome. Talk to you later!\n",
    "- Thanks. Bye for now\n",
    "- Awesome, bye bye\n",
    "- That's great. Goodbye.\n",
    "- Perfect. Talk to you later\n",
    "- Thanks! Goodbye\n",
    "- Thank you very much. Talk to you later\n",
    "- Thanks a lot. Bye for now\n",
    "- Thanks bot. Goodbye\n",
    "\n",
    "\"\"\""
   ]
  },
  {
   "cell_type": "code",
   "execution_count": 2,
   "metadata": {},
   "outputs": [
    {
     "name": "stdout",
     "output_type": "stream",
     "text": [
      "Event loop ready.\n"
     ]
    }
   ],
   "source": [
    "import nest_asyncio\n",
    "\n",
    "nest_asyncio.apply()\n",
    "print(\"Event loop ready.\")"
   ]
  },
  {
   "cell_type": "code",
   "execution_count": 3,
   "metadata": {},
   "outputs": [
    {
     "name": "stderr",
     "output_type": "stream",
     "text": [
      "C:\\Users\\deeks\\Anaconda3\\envs\\tensorflow\\lib\\site-packages\\numpy\\_distributor_init.py:32: UserWarning: loaded more than 1 DLL from .libs:\n",
      "C:\\Users\\deeks\\Anaconda3\\envs\\tensorflow\\lib\\site-packages\\numpy\\.libs\\libopenblas.PYQHXLVVQ7VESDPUVUADXEVJOBGHJPAY.gfortran-win_amd64.dll\n",
      "C:\\Users\\deeks\\Anaconda3\\envs\\tensorflow\\lib\\site-packages\\numpy\\.libs\\libopenblas.TXA6YQSD3GCQQC22GEQ54J2UDCXDXHWN.gfortran-win_amd64.dll\n",
      "  stacklevel=1)\n"
     ]
    },
    {
     "name": "stdout",
     "output_type": "stream",
     "text": [
      "['actions.py', 'config.yml', 'credentials.yml', 'data', 'domain.yml', 'endpoints.yml', 'tests', '__init__.py', '__pycache__']\n"
     ]
    }
   ],
   "source": [
    "from rasa.cli.scaffold import create_initial_project\n",
    "import os\n",
    "\n",
    "import rasa\n",
    "from rasa.nlu.train import Interpreter\n",
    "from rasa.nlu.training_data import load_data\n",
    "from rasa.nlu.config import RasaNLUModelConfig\n",
    "from rasa.nlu.model import Trainer\n",
    "from rasa.nlu import config\n",
    "import json\n",
    "\n",
    "#Getting the config file\n",
    "project = \"Money_manager\"\n",
    "create_initial_project(project)\n",
    "\n",
    "# move into project directory and show files\n",
    "os.chdir(project)\n",
    "print(os.listdir(\".\"))"
   ]
  },
  {
   "cell_type": "code",
   "execution_count": 4,
   "metadata": {},
   "outputs": [],
   "source": [
    "#Saving the file\n",
    "text_file = open(\"nlu.md\", \"w\")\n",
    "text_file.write(nlu_md)\n",
    "text_file.close()"
   ]
  },
  {
   "cell_type": "code",
   "execution_count": 5,
   "metadata": {},
   "outputs": [],
   "source": [
    "#loading the NLU training Example\n",
    "training_data = load_data('nlu.md')"
   ]
  },
  {
   "cell_type": "code",
   "execution_count": 6,
   "metadata": {},
   "outputs": [],
   "source": [
    "#Trainer to educate our pipeline\n",
    "trainer = Trainer(config.load(\"config.yml\"))"
   ]
  },
  {
   "cell_type": "code",
   "execution_count": 7,
   "metadata": {},
   "outputs": [],
   "source": [
    "import os\n",
    "os.environ[\"CUDA_VISIBLE_DEVICES\"] = \"-1\"  # Force TF to use only the CPU"
   ]
  },
  {
   "cell_type": "code",
   "execution_count": 8,
   "metadata": {},
   "outputs": [
    {
     "name": "stderr",
     "output_type": "stream",
     "text": [
      "Epochs: 100%|█| 100/100 [01:01<00:00,  1.61it/s, t_loss=2.677, i_loss=0.127, entity_loss=0.538, i_acc=1.000, entity_f1=0.824] \n"
     ]
    }
   ],
   "source": [
    "#train The model\n",
    "interpreter = trainer.train(training_data)\n"
   ]
  },
  {
   "cell_type": "code",
   "execution_count": 32,
   "metadata": {},
   "outputs": [],
   "source": [
    "#Store it for future use\n",
    "model_directory = trainer.persist('model',fixed_model_name = 'current')"
   ]
  },
  {
   "cell_type": "code",
   "execution_count": 33,
   "metadata": {},
   "outputs": [
    {
     "name": "stdout",
     "output_type": "stream",
     "text": [
      "{'intent': {'name': 'greet', 'confidence': 0.9987877011299133}, 'entities': [], 'intent_ranking': [{'name': 'greet', 'confidence': 0.9987877011299133}, {'name': 'thanks', 'confidence': 0.0004867421230301261}, {'name': 'Saving Money & Wealth Manager', 'confidence': 0.00030150217935442924}, {'name': 'Outstanding Bills', 'confidence': 0.00015115886344574392}, {'name': 'Bank_account_statement', 'confidence': 0.0001078656132449396}, {'name': 'Budget Reminders', 'confidence': 8.388149581151083e-05}, {'name': 'Increase my Wealth', 'confidence': 3.67182947229594e-05}, {'name': 'Bank_Balance', 'confidence': 2.248891905765049e-05}, {'name': 'Tack expenditures by  categories', 'confidence': 2.199764821853023e-05}], 'response_selector': {'default': {'response': {'name': None, 'confidence': 0.0}, 'ranking': [], 'full_retrieval_intent': 'thanks/None'}}, 'text': 'hello'}\n"
     ]
    }
   ],
   "source": [
    "#A helper function for pretier output\n",
    "def pprint(o):\n",
    "    print(json.dumps(o,indent=3))\n",
    "\n",
    "print(interpreter.parse('hello'))"
   ]
  },
  {
   "cell_type": "code",
   "execution_count": 34,
   "metadata": {},
   "outputs": [
    {
     "name": "stdout",
     "output_type": "stream",
     "text": [
      "{'intent': {'name': 'Tack expenditures by  categories', 'confidence': 0.9998824000358582}, 'entities': [{'entity': 'merchant_name', 'start': 24, 'end': 30, 'value': 'zomato', 'extractor': 'DIETClassifier'}, {'entity': 'time_period', 'start': 31, 'end': 41, 'value': 'last month', 'extractor': 'DIETClassifier'}], 'intent_ranking': [{'name': 'Tack expenditures by  categories', 'confidence': 0.9998824000358582}, {'name': 'Outstanding Bills', 'confidence': 3.084320269408636e-05}, {'name': 'Budget Reminders', 'confidence': 3.0808954761596397e-05}, {'name': 'Bank_account_statement', 'confidence': 2.1580193788395263e-05}, {'name': 'Bank_Balance', 'confidence': 2.1157506125746295e-05}, {'name': 'Saving Money & Wealth Manager', 'confidence': 5.021262040827423e-06}, {'name': 'greet', 'confidence': 4.256623924447922e-06}, {'name': 'Increase my Wealth', 'confidence': 2.3385782697005197e-06}, {'name': 'thanks', 'confidence': 1.5959568600010243e-06}], 'response_selector': {'default': {'response': {'name': None, 'confidence': 0.0}, 'ranking': [], 'full_retrieval_intent': 'thanks/None'}}, 'text': 'how much did i spent on zomato last month'}\n"
     ]
    }
   ],
   "source": [
    "print(interpreter.parse(\"how much did i spent on zomato last month\"))"
   ]
  },
  {
   "cell_type": "code",
   "execution_count": 35,
   "metadata": {},
   "outputs": [
    {
     "name": "stdout",
     "output_type": "stream",
     "text": [
      "{'intent': {'name': 'Outstanding Bills', 'confidence': 0.9589295387268066}, 'entities': [{'entity': 'category', 'start': 29, 'end': 33, 'value': 'bill', 'extractor': 'DIETClassifier'}], 'intent_ranking': [{'name': 'Outstanding Bills', 'confidence': 0.9589295387268066}, {'name': 'Tack expenditures by  categories', 'confidence': 0.012812457047402859}, {'name': 'greet', 'confidence': 0.008841050788760185}, {'name': 'thanks', 'confidence': 0.008174506947398186}, {'name': 'Budget Reminders', 'confidence': 0.004588485695421696}, {'name': 'Saving Money & Wealth Manager', 'confidence': 0.003376192878931761}, {'name': 'Bank_Balance', 'confidence': 0.0016862895572558045}, {'name': 'Increase my Wealth', 'confidence': 0.0011529210023581982}, {'name': 'Bank_account_statement', 'confidence': 0.00043863922473974526}], 'response_selector': {'default': {'response': {'name': None, 'confidence': 0.0}, 'ranking': [], 'full_retrieval_intent': 'thanks/None'}}, 'text': 'Pls tell me my pending water bill'}\n"
     ]
    }
   ],
   "source": [
    "print(interpreter.parse(\"Pls tell me my pending water bill\"))"
   ]
  },
  {
   "cell_type": "code",
   "execution_count": 36,
   "metadata": {},
   "outputs": [
    {
     "name": "stdout",
     "output_type": "stream",
     "text": [
      "{'intent': {'name': 'Increase my Wealth', 'confidence': 0.7362117171287537}, 'entities': [], 'intent_ranking': [{'name': 'Increase my Wealth', 'confidence': 0.7362117171287537}, {'name': 'Tack expenditures by  categories', 'confidence': 0.09680377691984177}, {'name': 'Outstanding Bills', 'confidence': 0.05345730483531952}, {'name': 'Budget Reminders', 'confidence': 0.051465895026922226}, {'name': 'Bank_Balance', 'confidence': 0.03504018858075142}, {'name': 'thanks', 'confidence': 0.019703106954693794}, {'name': 'greet', 'confidence': 0.004347293637692928}, {'name': 'Bank_account_statement', 'confidence': 0.002018124097958207}, {'name': 'Saving Money & Wealth Manager', 'confidence': 0.0009525737259536982}], 'response_selector': {'default': {'response': {'name': None, 'confidence': 0.0}, 'ranking': [], 'full_retrieval_intent': 'thanks/None'}}, 'text': 'I want to be rich'}\n"
     ]
    }
   ],
   "source": [
    "print(interpreter.parse(\"I want to be rich\"))"
   ]
  },
  {
   "cell_type": "code",
   "execution_count": 37,
   "metadata": {},
   "outputs": [
    {
     "name": "stdout",
     "output_type": "stream",
     "text": [
      "{'intent': {'name': 'Budget Reminders', 'confidence': 0.9991481304168701}, 'entities': [{'entity': 'Amount', 'start': 33, 'end': 36, 'value': '500', 'extractor': 'DIETClassifier'}, {'entity': 'merchant_name', 'start': 40, 'end': 49, 'value': 'starbucks', 'extractor': 'DIETClassifier'}, {'entity': 'time_period', 'start': 50, 'end': 59, 'value': 'this week', 'extractor': 'DIETClassifier'}], 'intent_ranking': [{'name': 'Budget Reminders', 'confidence': 0.9991481304168701}, {'name': 'Tack expenditures by  categories', 'confidence': 0.00029496237402781844}, {'name': 'Bank_account_statement', 'confidence': 0.00022221803374122828}, {'name': 'Bank_Balance', 'confidence': 9.010088979266584e-05}, {'name': 'Outstanding Bills', 'confidence': 7.75161970523186e-05}, {'name': 'Increase my Wealth', 'confidence': 6.208290142240003e-05}, {'name': 'thanks', 'confidence': 4.479888957575895e-05}, {'name': 'greet', 'confidence': 3.083049159613438e-05}, {'name': 'Saving Money & Wealth Manager', 'confidence': 2.9293238185346127e-05}], 'response_selector': {'default': {'response': {'name': None, 'confidence': 0.0}, 'ranking': [], 'full_retrieval_intent': 'thanks/None'}}, 'text': 'make sure I dont spend more than 500 in starbucks this week'}\n"
     ]
    }
   ],
   "source": [
    "print(interpreter.parse(\"make sure I dont spend more than 500 in starbucks this week\"))"
   ]
  },
  {
   "cell_type": "code",
   "execution_count": 38,
   "metadata": {},
   "outputs": [
    {
     "name": "stdout",
     "output_type": "stream",
     "text": [
      "{'intent': {'name': 'Bank_account_statement', 'confidence': 0.8367915153503418}, 'entities': [{'entity': 'month', 'start': 24, 'end': 28, 'value': 'june', 'extractor': 'DIETClassifier'}], 'intent_ranking': [{'name': 'Bank_account_statement', 'confidence': 0.8367915153503418}, {'name': 'Saving Money & Wealth Manager', 'confidence': 0.1154467985033989}, {'name': 'Budget Reminders', 'confidence': 0.03080211766064167}, {'name': 'thanks', 'confidence': 0.008538545109331608}, {'name': 'greet', 'confidence': 0.003837758442386985}, {'name': 'Bank_Balance', 'confidence': 0.0028098507318645716}, {'name': 'Outstanding Bills', 'confidence': 0.0014938988024368882}, {'name': 'Increase my Wealth', 'confidence': 0.0002218330919276923}, {'name': 'Tack expenditures by  categories', 'confidence': 5.773257362307049e-05}], 'response_selector': {'default': {'response': {'name': None, 'confidence': 0.0}, 'ranking': [], 'full_retrieval_intent': 'thanks/None'}}, 'text': 'get me my statement for june'}\n"
     ]
    }
   ],
   "source": [
    "print(interpreter.parse(\"get me my statement for june\"))"
   ]
  },
  {
   "cell_type": "code",
   "execution_count": 39,
   "metadata": {},
   "outputs": [
    {
     "name": "stdout",
     "output_type": "stream",
     "text": [
      "{'intent': {'name': 'Bank_Balance', 'confidence': 0.9980331063270569}, 'entities': [], 'intent_ranking': [{'name': 'Bank_Balance', 'confidence': 0.9980331063270569}, {'name': 'Outstanding Bills', 'confidence': 0.0012960047461092472}, {'name': 'Tack expenditures by  categories', 'confidence': 0.00029515966889448464}, {'name': 'greet', 'confidence': 0.0001714525424176827}, {'name': 'thanks', 'confidence': 7.847910455893725e-05}, {'name': 'Increase my Wealth', 'confidence': 5.438385778688826e-05}, {'name': 'Budget Reminders', 'confidence': 5.1576098485384136e-05}, {'name': 'Bank_account_statement', 'confidence': 1.9447905287961476e-05}, {'name': 'Saving Money & Wealth Manager', 'confidence': 3.966419228618179e-07}], 'response_selector': {'default': {'response': {'name': None, 'confidence': 0.0}, 'ranking': [], 'full_retrieval_intent': 'thanks/None'}}, 'text': 'tell my balance'}\n"
     ]
    }
   ],
   "source": [
    "print(interpreter.parse(\"tell my balance\"))"
   ]
  },
  {
   "cell_type": "code",
   "execution_count": null,
   "metadata": {},
   "outputs": [],
   "source": []
  },
  {
   "cell_type": "code",
   "execution_count": null,
   "metadata": {},
   "outputs": [],
   "source": []
  },
  {
   "cell_type": "code",
   "execution_count": null,
   "metadata": {},
   "outputs": [],
   "source": []
  },
  {
   "cell_type": "code",
   "execution_count": null,
   "metadata": {},
   "outputs": [],
   "source": []
  },
  {
   "cell_type": "code",
   "execution_count": null,
   "metadata": {},
   "outputs": [],
   "source": []
  },
  {
   "cell_type": "code",
   "execution_count": null,
   "metadata": {},
   "outputs": [],
   "source": [
    "#loading the NLU training Example\n",
    "training_data = load_data('nlu.md')\n",
    "\n",
    "#Trainer to educate our pipeline\n",
    "trainer = Trainer(config.load(\"config.yml\"))\n",
    "\n",
    "#train The model\n",
    "interpreter = trainer.train(training_data)\n",
    "\n",
    "#Store it for future use\n",
    "model_directory = trainer.persist('model',fixed_model_name = 'current')"
   ]
  },
  {
   "cell_type": "code",
   "execution_count": null,
   "metadata": {},
   "outputs": [],
   "source": []
  }
 ],
 "metadata": {
  "kernelspec": {
   "display_name": "Python 3.6 (tensorflow)",
   "language": "python",
   "name": "tensorflow"
  },
  "language_info": {
   "codemirror_mode": {
    "name": "ipython",
    "version": 3
   },
   "file_extension": ".py",
   "mimetype": "text/x-python",
   "name": "python",
   "nbconvert_exporter": "python",
   "pygments_lexer": "ipython3",
   "version": "3.6.9"
  }
 },
 "nbformat": 4,
 "nbformat_minor": 4
}
